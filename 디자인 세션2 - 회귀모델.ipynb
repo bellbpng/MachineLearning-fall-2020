{
 "cells": [
  {
   "cell_type": "code",
   "execution_count": 1,
   "metadata": {},
   "outputs": [
    {
     "name": "stderr",
     "output_type": "stream",
     "text": [
      "C:\\Users\\김보경\\AppData\\Local\\conda\\conda\\envs\\venv\\lib\\site-packages\\numpy\\_distributor_init.py:32: UserWarning: loaded more than 1 DLL from .libs:\n",
      "C:\\Users\\김보경\\AppData\\Local\\conda\\conda\\envs\\venv\\lib\\site-packages\\numpy\\.libs\\libopenblas.NOIJJG62EMASZI6NYURL6JBKM4EVBGM7.gfortran-win_amd64.dll\n",
      "C:\\Users\\김보경\\AppData\\Local\\conda\\conda\\envs\\venv\\lib\\site-packages\\numpy\\.libs\\libopenblas.PYQHXLVVQ7VESDPUVUADXEVJOBGHJPAY.gfortran-win_amd64.dll\n",
      "  stacklevel=1)\n"
     ]
    },
    {
     "name": "stdout",
     "output_type": "stream",
     "text": [
      "(1)\n",
      "theta_best by normal equation :\n",
      "[[4.60682037]\n",
      " [2.90130387]]\n",
      "(2)\n",
      "y_predict by normal equation :\n",
      "[[ 4.60682037]\n",
      " [10.40942811]]\n",
      "(3)\n",
      "y_predict by linear regression :\n",
      "[[ 4.60682037]\n",
      " [10.40942811]]\n"
     ]
    },
    {
     "data": {
      "image/png": "[encoded data removed]",
      "text/plain": [
       "<matplotlib.figure.Figure at 0x1d661259208>"
      ]
     },
     "metadata": {},
     "output_type": "display_data"
    }
   ],
   "source": [
    "# linerar regression_normal equation (선형 정규방정식) 코드\n",
    "from sklearn.linear_model import LinearRegression\n",
    "import numpy as np\n",
    "import matplotlib.pyplot as plt\n",
    "\n",
    "#랜덤 데이터 생성\n",
    "\n",
    "X = 2 * np.random.rand(100, 1)\n",
    "y = 4 + 3 * X + np.random.rand(100, 1)\n",
    "\n",
    "\n",
    "#정규방정식(normal equation)에 의한 예측\n",
    "X_b = np.c_[np.ones((100, 1)), X]                            #모든 샘플에 x0 = 1을 추가\n",
    "theta_best = np.linalg.inv(X_b.T.dot(X_b)).dot(X_b.T).dot(y) #정규방정식을 사용하여 theta를 계산\n",
    "\n",
    "print(\"(1)\")\n",
    "print('theta_best by normal equation :')\n",
    "print(theta_best)\n",
    "\n",
    "X_new = np.array([[0], [2]])\n",
    "X_new_b = np.c_[np.ones((2, 1)), X_new] #모든 샘플에 x0 = 1을 추가\n",
    "y_predict = X_new_b.dot(theta_best)\n",
    "\n",
    "print(\"(2)\")\n",
    "print('y_predict by normal equation :')\n",
    "print(y_predict)\n",
    "\n",
    "\n",
    "#선형 회귀(linear regression) 모델에 의한 예측\n",
    "\n",
    "lin_reg = LinearRegression()\n",
    "lin_reg.fit(X, y)\n",
    "lin_reg.intercept_, lin_reg.coef_\n",
    "\n",
    "y_predict_reg = lin_reg.predict(X_new)\n",
    "\n",
    "print(\"(3)\")\n",
    "print(\"y_predict by linear regression :\")\n",
    "print(y_predict_reg)\n",
    "\n",
    "plt.plot(X_new, y_predict, \"r-\")\n",
    "plt.plot(X, y, \"b.\")\n",
    "plt.axis([0, 2, 0, 15])\n",
    "plt.show()"
   ]
  },
  {
   "cell_type": "code",
   "execution_count": 2,
   "metadata": {},
   "outputs": [
    {
     "name": "stdout",
     "output_type": "stream",
     "text": [
      "theta by batch gradient descent :\n",
      "[[4.52744222]\n",
      " [2.94651532]]\n",
      "y_predict by linear regression :\n",
      "[[ 4.52744222]\n",
      " [10.42047286]]\n"
     ]
    },
    {
     "data": {
      "image/png": "[encoded data removed]",
      "text/plain": [
       "<matplotlib.figure.Figure at 0x1d625fa62e8>"
      ]
     },
     "metadata": {},
     "output_type": "display_data"
    }
   ],
   "source": [
    "# batch_gradient descent (배치 경사 하강법) 코드\n",
    "\n",
    "from sklearn.linear_model import LinearRegression\n",
    "import numpy as np\n",
    "import matplotlib.pyplot as plt\n",
    "\n",
    "#랜덤 데이터 생성\n",
    "\n",
    "X = 2 * np.random.rand(100, 1)\n",
    "y = 4 + 3 * X + np.random.rand(100, 1)\n",
    "\n",
    "\n",
    "#미니 배치 경사 하강법으로 theta 구하기\n",
    "X_b = np.c_[np.ones((100, 1)), X]        #모든 샘플에 x0 = 1을 추가\n",
    "\n",
    "eta = 0.1                                #학습률 설정\n",
    "n_iterations = 1000\n",
    "m = 100\n",
    "\n",
    "theta = np.random.randn(2,1)             #램덤 초기화\n",
    "for interation in range(n_iterations):\n",
    "    gradients = 2/m * X_b.T.dot(X_b.dot(theta) - y)\n",
    "    theta = theta - eta * gradients\n",
    "\n",
    "print(\"theta by batch gradient descent :\")\n",
    "print(theta)\n",
    "\n",
    "\n",
    "#선형 회귀(linear regression) 모델에 의한 예측\n",
    "\n",
    "lin_reg = LinearRegression()\n",
    "lin_reg.fit(X, y)\n",
    "lin_reg.intercept_, lin_reg.coef_\n",
    "\n",
    "y_predict_reg = lin_reg.predict(X_new)\n",
    "\n",
    "print(\"y_predict by linear regression :\")\n",
    "print(y_predict_reg)\n",
    "\n",
    "plt.plot(X_new, y_predict, \"r-\")\n",
    "plt.plot(X, y, \"b.\")\n",
    "plt.axis([0, 2, 0, 15])\n",
    "plt.show()"
   ]
  },
  {
   "cell_type": "code",
   "execution_count": 3,
   "metadata": {},
   "outputs": [
    {
     "name": "stdout",
     "output_type": "stream",
     "text": [
      "theta by SGD(Stochastic Gradient Descent) :\n",
      "[[4.52845598]\n",
      " [2.95420952]]\n",
      "y_predict by SGDRegressor :\n",
      "[ 4.4888766  10.43501132]\n"
     ]
    },
    {
     "data": {
      "image/png": "[encoded data removed]",
      "text/plain": [
       "<matplotlib.figure.Figure at 0x1d6632a4e48>"
      ]
     },
     "metadata": {},
     "output_type": "display_data"
    }
   ],
   "source": [
    "# SGD (확률적 경사 하강법) 코드\n",
    "\n",
    "from sklearn.linear_model import SGDRegressor\n",
    "import numpy as np\n",
    "import matplotlib.pyplot as plt\n",
    "\n",
    "#랜덤 데이터 생성\n",
    "\n",
    "X = 2 * np.random.rand(100, 1)\n",
    "y = 4 + 3 * X + np.random.rand(100, 1)\n",
    "\n",
    "\n",
    "#확률적 경사 하강법(SGD)으로 theta 구하기\n",
    "X_b = np.c_[np.ones((100, 1)), X]        #모든 샘플에 x0 = 1을 추가\n",
    "\n",
    "n_epochs = 50\n",
    "t0, t1 = 5, 10                           #학습 스케쥴 하이퍼파라미터\n",
    "\n",
    "def learning_schedule(t):\n",
    "    return t0 / (t + t1)\n",
    "\n",
    "theta = np.random.randn(2,1)             #램덤 초기화\n",
    "\n",
    "for epoch in range(n_epochs):\n",
    "    for i in range(m):\n",
    "        random_index = np.random.randint(m)\n",
    "        xi = X_b[random_index:random_index+1]\n",
    "        yi = y[random_index:random_index+1]\n",
    "        gradients = 2 * xi.T.dot(xi.dot(theta) - yi)\n",
    "        eta = learning_schedule(epoch * m + i)\n",
    "        theta = theta - eta * gradients\n",
    "\n",
    "print(\"theta by SGD(Stochastic Gradient Descent) :\")\n",
    "print(theta)\n",
    "\n",
    "\n",
    "#SGDRegressor 모델에 의한 예측\n",
    "\n",
    "sgd_reg = SGDRegressor(max_iter=50, penalty=None, eta0=0.1)\n",
    "sgd_reg.fit(X, y.ravel())\n",
    "\n",
    "y_predict_reg = sgd_reg.predict(X_new)\n",
    "\n",
    "print(\"y_predict by SGDRegressor :\")\n",
    "print(y_predict_reg)\n",
    "\n",
    "plt.plot(X_new, y_predict, \"r-\")\n",
    "plt.plot(X, y, \"b.\")\n",
    "plt.axis([0, 2, 0, 15])\n",
    "plt.show()"
   ]
  },
  {
   "cell_type": "code",
   "execution_count": 4,
   "metadata": {},
   "outputs": [
    {
     "name": "stdout",
     "output_type": "stream",
     "text": [
      "log_reg.pridict:\n",
      "<bound method LinearClassifierMixin.predict of LogisticRegression(solver='liblinear')>\n"
     ]
    }
   ],
   "source": [
    "#logisticreg(로지스틱 회귀 모델) 코드\n",
    "\n",
    "from sklearn import datasets\n",
    "from sklearn.linear_model import LogisticRegression\n",
    "\n",
    "import numpy as np\n",
    "import matplotlib.pyplot as plt\n",
    "\n",
    "iris = datasets.load_iris()\n",
    "list(iris.keys())\n",
    "\n",
    "X = iris[\"data\"][:, 3:]                    #꽃잎의 너비\n",
    "y = (iris[\"target\"] == 2).astype(np.int)   #1 Iris-Verginica면 1, 그렇지 않으면 0\n",
    "\n",
    "log_reg = LogisticRegression(solver='liblinear')\n",
    "log_reg.fit(X, y)\n",
    "\n",
    "X_new = np.linspace(0, 3, 1000).reshape(-1, 1)\n",
    "y_proba = log_reg.predict_proba(X_new)\n",
    "plt.plot(X_new, y_proba[:, 1], \"g-\", label=\"Iris-Vriginica\")\n",
    "plt.plot(X_new, y_proba[:, 0], \"b--\", label=\"Iris-Virginica 아님\")\n",
    "\n",
    "log_reg.predict([[1.7], [1.5]])\n",
    "\n",
    "print(\"log_reg.pridict:\")\n",
    "print(log_reg.predict)\n"
   ]
  },
  {
   "cell_type": "code",
   "execution_count": null,
   "metadata": {
    "collapsed": true
   },
   "outputs": [],
   "source": []
  }
 ],
 "metadata": {
  "kernelspec": {
   "display_name": "Python 3",
   "language": "python",
   "name": "python3"
  },
  "language_info": {
   "codemirror_mode": {
    "name": "ipython",
    "version": 3
   },
   "file_extension": ".py",
   "mimetype": "text/x-python",
   "name": "python",
   "nbconvert_exporter": "python",
   "pygments_lexer": "ipython3",
   "version": "3.6.2"
  }
 },
 "nbformat": 4,
 "nbformat_minor": 2
}
